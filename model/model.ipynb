{
 "cells": [
  {
   "cell_type": "code",
   "execution_count": 2,
   "metadata": {},
   "outputs": [
    {
     "name": "stderr",
     "output_type": "stream",
     "text": [
      "/home/rey/.local/lib/python3.10/site-packages/sentence_transformers/cross_encoder/CrossEncoder.py:11: TqdmExperimentalWarning: Using `tqdm.autonotebook.tqdm` in notebook mode. Use `tqdm.tqdm` instead to force console mode (e.g. in jupyter console)\n",
      "  from tqdm.autonotebook import tqdm, trange\n"
     ]
    }
   ],
   "source": [
    "import pandas as pd\n",
    "import faiss\n",
    "import spacy\n",
    "from sentence_transformers import SentenceTransformer\n",
    "import numpy as np"
   ]
  },
  {
   "cell_type": "code",
   "execution_count": null,
   "metadata": {},
   "outputs": [],
   "source": [
    "!pip install -r requirements.txt"
   ]
  },
  {
   "cell_type": "code",
   "execution_count": 3,
   "metadata": {},
   "outputs": [
    {
     "data": {
      "text/html": [
       "<div>\n",
       "<style scoped>\n",
       "    .dataframe tbody tr th:only-of-type {\n",
       "        vertical-align: middle;\n",
       "    }\n",
       "\n",
       "    .dataframe tbody tr th {\n",
       "        vertical-align: top;\n",
       "    }\n",
       "\n",
       "    .dataframe thead th {\n",
       "        text-align: right;\n",
       "    }\n",
       "</style>\n",
       "<table border=\"1\" class=\"dataframe\">\n",
       "  <thead>\n",
       "    <tr style=\"text-align: right;\">\n",
       "      <th></th>\n",
       "      <th>id</th>\n",
       "      <th>name</th>\n",
       "      <th>effect</th>\n",
       "      <th>god</th>\n",
       "      <th>rarity</th>\n",
       "      <th>mana</th>\n",
       "      <th>type</th>\n",
       "      <th>set</th>\n",
       "      <th>collectable</th>\n",
       "      <th>live</th>\n",
       "      <th>art_id</th>\n",
       "      <th>lib_id</th>\n",
       "      <th>tribe.String</th>\n",
       "      <th>tribe.Valid</th>\n",
       "      <th>attack.Int64</th>\n",
       "      <th>attack.Valid</th>\n",
       "      <th>health.Int64</th>\n",
       "      <th>health.Valid</th>\n",
       "    </tr>\n",
       "  </thead>\n",
       "  <tbody>\n",
       "    <tr>\n",
       "      <th>0</th>\n",
       "      <td>1210</td>\n",
       "      <td>Jinxblade Duelist</td>\n",
       "      <td>At the end of each turn, give +1 health to thi...</td>\n",
       "      <td>deception</td>\n",
       "      <td>common</td>\n",
       "      <td>3</td>\n",
       "      <td>creature</td>\n",
       "      <td>core</td>\n",
       "      <td>True</td>\n",
       "      <td>True</td>\n",
       "      <td>C799</td>\n",
       "      <td>L2-211</td>\n",
       "      <td>guild</td>\n",
       "      <td>True</td>\n",
       "      <td>4</td>\n",
       "      <td>True</td>\n",
       "      <td>2</td>\n",
       "      <td>True</td>\n",
       "    </tr>\n",
       "    <tr>\n",
       "      <th>1</th>\n",
       "      <td>1036</td>\n",
       "      <td>Leyhoard Hatchling</td>\n",
       "      <td>Each turn, set this creature's mana cost to 10...</td>\n",
       "      <td>magic</td>\n",
       "      <td>rare</td>\n",
       "      <td>10</td>\n",
       "      <td>creature</td>\n",
       "      <td>core</td>\n",
       "      <td>True</td>\n",
       "      <td>True</td>\n",
       "      <td>C745</td>\n",
       "      <td>L2-037</td>\n",
       "      <td>dragon</td>\n",
       "      <td>True</td>\n",
       "      <td>3</td>\n",
       "      <td>True</td>\n",
       "      <td>3</td>\n",
       "      <td>True</td>\n",
       "    </tr>\n",
       "    <tr>\n",
       "      <th>2</th>\n",
       "      <td>1302</td>\n",
       "      <td>Cursed Obelisks</td>\n",
       "      <td>Backline. Can't attack. At the end of your tur...</td>\n",
       "      <td>death</td>\n",
       "      <td>rare</td>\n",
       "      <td>3</td>\n",
       "      <td>creature</td>\n",
       "      <td>order</td>\n",
       "      <td>True</td>\n",
       "      <td>True</td>\n",
       "      <td>C8-003</td>\n",
       "      <td>L8-003</td>\n",
       "      <td>structure</td>\n",
       "      <td>True</td>\n",
       "      <td>1</td>\n",
       "      <td>True</td>\n",
       "      <td>4</td>\n",
       "      <td>True</td>\n",
       "    </tr>\n",
       "    <tr>\n",
       "      <th>3</th>\n",
       "      <td>1129</td>\n",
       "      <td>End Times</td>\n",
       "      <td>Destroy each creature. Then summon a 6/6 Demon...</td>\n",
       "      <td>death</td>\n",
       "      <td>epic</td>\n",
       "      <td>8</td>\n",
       "      <td>spell</td>\n",
       "      <td>core</td>\n",
       "      <td>True</td>\n",
       "      <td>True</td>\n",
       "      <td>C612</td>\n",
       "      <td>L2-130</td>\n",
       "      <td>NaN</td>\n",
       "      <td>False</td>\n",
       "      <td>0</td>\n",
       "      <td>False</td>\n",
       "      <td>0</td>\n",
       "      <td>False</td>\n",
       "    </tr>\n",
       "    <tr>\n",
       "      <th>4</th>\n",
       "      <td>1132</td>\n",
       "      <td>The Old Ritual</td>\n",
       "      <td>Destroy a creature, if you do, summon a 6/6 Ne...</td>\n",
       "      <td>death</td>\n",
       "      <td>common</td>\n",
       "      <td>4</td>\n",
       "      <td>spell</td>\n",
       "      <td>core</td>\n",
       "      <td>True</td>\n",
       "      <td>True</td>\n",
       "      <td>C609</td>\n",
       "      <td>L2-133</td>\n",
       "      <td>NaN</td>\n",
       "      <td>False</td>\n",
       "      <td>0</td>\n",
       "      <td>False</td>\n",
       "      <td>0</td>\n",
       "      <td>False</td>\n",
       "    </tr>\n",
       "  </tbody>\n",
       "</table>\n",
       "</div>"
      ],
      "text/plain": [
       "     id                name  \\\n",
       "0  1210   Jinxblade Duelist   \n",
       "1  1036  Leyhoard Hatchling   \n",
       "2  1302     Cursed Obelisks   \n",
       "3  1129           End Times   \n",
       "4  1132      The Old Ritual   \n",
       "\n",
       "                                              effect        god  rarity  mana  \\\n",
       "0  At the end of each turn, give +1 health to thi...  deception  common     3   \n",
       "1  Each turn, set this creature's mana cost to 10...      magic    rare    10   \n",
       "2  Backline. Can't attack. At the end of your tur...      death    rare     3   \n",
       "3  Destroy each creature. Then summon a 6/6 Demon...      death    epic     8   \n",
       "4  Destroy a creature, if you do, summon a 6/6 Ne...      death  common     4   \n",
       "\n",
       "       type    set  collectable  live  art_id  lib_id tribe.String  \\\n",
       "0  creature   core         True  True    C799  L2-211        guild   \n",
       "1  creature   core         True  True    C745  L2-037       dragon   \n",
       "2  creature  order         True  True  C8-003  L8-003    structure   \n",
       "3     spell   core         True  True    C612  L2-130          NaN   \n",
       "4     spell   core         True  True    C609  L2-133          NaN   \n",
       "\n",
       "   tribe.Valid  attack.Int64  attack.Valid  health.Int64  health.Valid  \n",
       "0         True             4          True             2          True  \n",
       "1         True             3          True             3          True  \n",
       "2         True             1          True             4          True  \n",
       "3        False             0         False             0         False  \n",
       "4        False             0         False             0         False  "
      ]
     },
     "execution_count": 3,
     "metadata": {},
     "output_type": "execute_result"
    }
   ],
   "source": [
    "df = pd.read_csv(\"cards.csv\")\n",
    "\n",
    "df.head()\n"
   ]
  },
  {
   "cell_type": "code",
   "execution_count": 5,
   "metadata": {},
   "outputs": [],
   "source": [
    "# preprocess\n",
    "\n",
    "NLP = spacy.load(\"en_core_web_sm\")\n",
    "STOP_WORDS = NLP.Defaults.stop_words\n",
    "\n",
    "def preprocess(text):\n",
    "    doc = NLP(str(text))\n",
    "    preprocessed = []\n",
    "    for token in doc:\n",
    "        if token.is_punct or token.like_num or token in STOP_WORDS or token.is_space:\n",
    "            continue\n",
    "        preprocessed.append(token.lemma_.lower().strip())\n",
    "    return ' '.join(preprocessed)\n"
   ]
  },
  {
   "cell_type": "code",
   "execution_count": 7,
   "metadata": {},
   "outputs": [],
   "source": [
    "df[\"processed_text\"] = df[\"effect\"].apply(preprocess)"
   ]
  },
  {
   "cell_type": "code",
   "execution_count": 9,
   "metadata": {},
   "outputs": [
    {
     "name": "stderr",
     "output_type": "stream",
     "text": [
      "/home/rey/.local/lib/python3.10/site-packages/huggingface_hub/file_download.py:1132: FutureWarning: `resume_download` is deprecated and will be removed in version 1.0.0. Downloads always resume when possible. If you want to force a new download, use `force_download=True`.\n",
      "  warnings.warn(\n"
     ]
    }
   ],
   "source": [
    "model = SentenceTransformer('all-MiniLM-L6-v2')\n",
    "\n",
    "df['embedding'] = df['processed_text'].apply(model.encode)\n",
    "\n",
    "vector = model.encode(df['processed_text'])\n",
    "\n",
    "df.to_csv(\"embed_data.csv\")"
   ]
  },
  {
   "cell_type": "code",
   "execution_count": 10,
   "metadata": {},
   "outputs": [],
   "source": [
    "# create indices\n",
    "d = vector.shape[1]\n",
    "index = faiss.IndexFlatL2(d)\n",
    "\n",
    "index.add(vector)\n",
    "\n",
    "faiss.write_index(index, \"cards_faiss.index\")"
   ]
  },
  {
   "cell_type": "code",
   "execution_count": 18,
   "metadata": {},
   "outputs": [
    {
     "name": "stdout",
     "output_type": "stream",
     "text": [
      "(384,)\n",
      "(1, 384)\n",
      "[[0.24051377 0.4508497  0.49977115 0.51034075 0.51136345 0.5825199\n",
      "  0.61133766 0.62695944 0.6269886  0.6373252 ]]\n",
      "[1567  851  973  617 1175 1562  847  182  389 1702]\n",
      "['Witherfingers', 'Solemn Lecturer', 'Infernal Footsoldier', 'Conniving Djinn', 'Dream Stalker', 'Dark Precarion', 'Thalia, Charite Temptress', 'Atlant Regulator', 'The Nocturnal', 'Lethargy Mage']\n"
     ]
    }
   ],
   "source": [
    "search = \"Roar: The three strongest enemy creatures gain burn +2 and go to sleep\"\n",
    "\n",
    "# test_pre = preprocess(search)\n",
    "# embedding = model.encode(test_pre)\n",
    "embedding = model.encode(search)\n",
    "print(embedding.shape)\n",
    "\n",
    "svec = np.array(embedding).reshape(1 ,-1)\n",
    "print(svec.shape)\n",
    "\n",
    "dist, pos = index.search(svec, k=10)\n",
    "\n",
    "pos = pos.flatten()\n",
    "\n",
    "print(dist)\n",
    "print(pos)\n",
    "\n",
    "names = [df[\"name\"][x] for x in pos]\n",
    "print(names)"
   ]
  }
 ],
 "metadata": {
  "kernelspec": {
   "display_name": "Python 3",
   "language": "python",
   "name": "python3"
  },
  "language_info": {
   "codemirror_mode": {
    "name": "ipython",
    "version": 3
   },
   "file_extension": ".py",
   "mimetype": "text/x-python",
   "name": "python",
   "nbconvert_exporter": "python",
   "pygments_lexer": "ipython3",
   "version": "3.10.12"
  }
 },
 "nbformat": 4,
 "nbformat_minor": 2
}
